{
  "nbformat": 4,
  "nbformat_minor": 0,
  "metadata": {
    "colab": {
      "provenance": [],
      "authorship_tag": "ABX9TyOILQfE2AUeyvNZGXUoI82x",
      "include_colab_link": true
    },
    "kernelspec": {
      "name": "python3",
      "display_name": "Python 3"
    },
    "language_info": {
      "name": "python"
    }
  },
  "cells": [
    {
      "cell_type": "markdown",
      "metadata": {
        "id": "view-in-github",
        "colab_type": "text"
      },
      "source": [
        "<a href=\"https://colab.research.google.com/github/Eliza712222/Evaluacion_1/blob/main/Untitled11.ipynb\" target=\"_parent\"><img src=\"https://colab.research.google.com/assets/colab-badge.svg\" alt=\"Open In Colab\"/></a>"
      ]
    },
    {
      "cell_type": "code",
      "execution_count": null,
      "metadata": {
        "collapsed": true,
        "id": "zTqEoJS5YvXT"
      },
      "outputs": [],
      "source": [
        "from collections import Counter\n",
        "\n",
        "# Solicitar la entrada al usuario\n",
        "oracion = input(\"Ingresa una oración: \")\n",
        "\n",
        "# Convertir la oración a minúsculas y eliminar los espacios\n",
        "oracion = oracion.replace(\" \", \"\").lower()\n",
        "\n",
        "# Contar la frecuencia de cada letra\n",
        "frecuencia = Counter(oracion)\n",
        "\n",
        "# Mostrar el resultado ordenado de mayor a menor frecuencia\n",
        "for letra, cantidad in frecuencia.most_common():\n",
        "    print(f\"{letra}: {cantidad}\")"
      ]
    }
  ]
}